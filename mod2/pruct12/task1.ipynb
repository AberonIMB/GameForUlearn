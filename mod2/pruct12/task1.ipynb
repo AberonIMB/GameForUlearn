import sqlite3

c = sqlite3.connect("netflix.sqlite")
cursor = c.cursor()

connect = sqlite3.connect("task1.sqlite")
cursor_task1 = connect.cursor()

cursor_task1.execute('''
    CREATE TABLE IF NOT EXISTS Actors (
        actor_id INTEGER PRIMARY KEY,
        actor_name TEXT
    )
''')

cursor_task1.execute('''
    CREATE TABLE IF NOT EXISTS Movies(
        movie_id INTEGER PRIMARY KEY,
        movie_title TEXT
    )
''')

cursor_task1.execute('''
    CREATE TABLE IF NOT EXISTS Actor_Movie (
        actor_id INTEGER,
        movie_id INTEGER,
        FOREIGN KEY (actor_id) REFERENCES Actors (actor_id),
        FOREIGN KEY (movie_id) REFERENCES Movies (movie_id),
        PRIMARY KEY (actor_id, movie_id)
    )
''')

cursor.execute("SELECT \"cast\", title FROM netflix_titles")
data = cursor.fetchall()

for cast, title in data:
    names = cast.split(', ')
    cursor_task1.execute("INSERT OR IGNORE INTO Movies (movie_title) VALUES (?);", (title,))
    # cursor_task1.execute("SELECT movie_id FROM Movies WHERE movie_title=(?);", (title,))
    movie_id = cursor_task1.lastrowid
    for name in names:
        cursor_task1.execute("INSERT OR IGNORE INTO Actors (actor_name) VALUES (?);", (name,))
        # cursor_task1.execute("SELECT actor_id FROM Actors WHERE actor_name=(?);", (name,))
        actor_id = cursor_task1.lastrowid
        cursor_task1.execute("INSERT OR IGNORE INTO Actor_Movie (actor_id, movie_id) VALUES (?, ?);", (actor_id, movie_id))


cursor_task1.execute("SELECT * FROM Actors limit 15")
print(cursor_task1.fetchall())
cursor_task1.execute("SELECT * FROM Movies limit 15")
print(cursor_task1.fetchall())


cursor_task1.execute("SELECT * FROM Actor_Movie")
print(cursor_task1.fetchall())